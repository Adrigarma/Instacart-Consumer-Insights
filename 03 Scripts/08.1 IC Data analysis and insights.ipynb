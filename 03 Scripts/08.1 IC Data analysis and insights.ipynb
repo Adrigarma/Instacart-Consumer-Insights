{
 "cells": [
  {
   "cell_type": "markdown",
   "id": "3e8dd848-ade9-4580-a533-d9873bc0bd37",
   "metadata": {},
   "source": [
    "# Content list\n",
    "1. Import libraries\n",
    "2. Import data\n",
    "3. Security implications\n",
    "4. Analysis\n",
    "5. Export data"
   ]
  },
  {
   "cell_type": "markdown",
   "id": "22a582a7-fe18-4759-b0b1-1244f8d421a7",
   "metadata": {},
   "source": [
    "# 01. Import libraries"
   ]
  },
  {
   "cell_type": "code",
   "execution_count": 2,
   "id": "cfbd8165-0d6f-4090-861d-8f69a6a97d01",
   "metadata": {},
   "outputs": [],
   "source": [
    "# Import analysis and visualization libraries\n",
    "\n",
    "import pandas as pd\n",
    "import numpy as np\n",
    "import os\n",
    "import matplotlib.pyplot as plt\n",
    "import seaborn as sns\n",
    "import scipy"
   ]
  },
  {
   "cell_type": "markdown",
   "id": "7173711a-b447-492d-b5af-ad0164eb241a",
   "metadata": {},
   "source": [
    "# 02. Import data"
   ]
  },
  {
   "cell_type": "code",
   "execution_count": 3,
   "id": "863aa3ff-6737-4693-af4e-8a2fb375eeae",
   "metadata": {},
   "outputs": [],
   "source": [
    "# Create path\n",
    "path = r'C:\\Users\\adrig\\OneDrive\\Documentos\\CARRIERFOUNDRY\\DATA IMMERSION\\ACHIEVEMENT 4\\Ex_4.2_Python\\03-2025 Instacart Basket Analysis'"
   ]
  },
  {
   "cell_type": "code",
   "execution_count": 4,
   "id": "5b4649f4-5072-4c8e-95d8-21b7056d5062",
   "metadata": {},
   "outputs": [],
   "source": [
    "# Import data\n",
    "ords_prods_all = pd.read_pickle(os.path.join(path, '02 Data', 'Prepared Data', 'orders_products_all.pkl'))"
   ]
  },
  {
   "cell_type": "code",
   "execution_count": 5,
   "id": "c5ffa706-8879-403c-afc5-7c19d741f143",
   "metadata": {},
   "outputs": [
    {
     "data": {
      "text/html": [
       "<div>\n",
       "<style scoped>\n",
       "    .dataframe tbody tr th:only-of-type {\n",
       "        vertical-align: middle;\n",
       "    }\n",
       "\n",
       "    .dataframe tbody tr th {\n",
       "        vertical-align: top;\n",
       "    }\n",
       "\n",
       "    .dataframe thead th {\n",
       "        text-align: right;\n",
       "    }\n",
       "</style>\n",
       "<table border=\"1\" class=\"dataframe\">\n",
       "  <thead>\n",
       "    <tr style=\"text-align: right;\">\n",
       "      <th></th>\n",
       "      <th>order_id</th>\n",
       "      <th>user_id</th>\n",
       "      <th>order_number</th>\n",
       "      <th>orders_day_of_week</th>\n",
       "      <th>order_hour_of_day</th>\n",
       "      <th>days_since_last_order</th>\n",
       "      <th>new_customer</th>\n",
       "      <th>product_id</th>\n",
       "      <th>add_to_cart_order</th>\n",
       "      <th>reordered</th>\n",
       "      <th>...</th>\n",
       "      <th>spending_flag</th>\n",
       "      <th>days_last_order_median</th>\n",
       "      <th>frequency_flag</th>\n",
       "      <th>gender</th>\n",
       "      <th>state</th>\n",
       "      <th>age</th>\n",
       "      <th>customer_since</th>\n",
       "      <th>n_dependants</th>\n",
       "      <th>fam_status</th>\n",
       "      <th>income</th>\n",
       "    </tr>\n",
       "  </thead>\n",
       "  <tbody>\n",
       "    <tr>\n",
       "      <th>0</th>\n",
       "      <td>2539329</td>\n",
       "      <td>1</td>\n",
       "      <td>1</td>\n",
       "      <td>2</td>\n",
       "      <td>8</td>\n",
       "      <td>NaN</td>\n",
       "      <td>True</td>\n",
       "      <td>196</td>\n",
       "      <td>1</td>\n",
       "      <td>0</td>\n",
       "      <td>...</td>\n",
       "      <td>Low spender</td>\n",
       "      <td>20.5</td>\n",
       "      <td>Non-frequent customer</td>\n",
       "      <td>Female</td>\n",
       "      <td>Alabama</td>\n",
       "      <td>31</td>\n",
       "      <td>2019-02-17</td>\n",
       "      <td>3</td>\n",
       "      <td>married</td>\n",
       "      <td>40423</td>\n",
       "    </tr>\n",
       "    <tr>\n",
       "      <th>1</th>\n",
       "      <td>2539329</td>\n",
       "      <td>1</td>\n",
       "      <td>1</td>\n",
       "      <td>2</td>\n",
       "      <td>8</td>\n",
       "      <td>NaN</td>\n",
       "      <td>True</td>\n",
       "      <td>14084</td>\n",
       "      <td>2</td>\n",
       "      <td>0</td>\n",
       "      <td>...</td>\n",
       "      <td>Low spender</td>\n",
       "      <td>20.5</td>\n",
       "      <td>Non-frequent customer</td>\n",
       "      <td>Female</td>\n",
       "      <td>Alabama</td>\n",
       "      <td>31</td>\n",
       "      <td>2019-02-17</td>\n",
       "      <td>3</td>\n",
       "      <td>married</td>\n",
       "      <td>40423</td>\n",
       "    </tr>\n",
       "    <tr>\n",
       "      <th>2</th>\n",
       "      <td>2539329</td>\n",
       "      <td>1</td>\n",
       "      <td>1</td>\n",
       "      <td>2</td>\n",
       "      <td>8</td>\n",
       "      <td>NaN</td>\n",
       "      <td>True</td>\n",
       "      <td>12427</td>\n",
       "      <td>3</td>\n",
       "      <td>0</td>\n",
       "      <td>...</td>\n",
       "      <td>Low spender</td>\n",
       "      <td>20.5</td>\n",
       "      <td>Non-frequent customer</td>\n",
       "      <td>Female</td>\n",
       "      <td>Alabama</td>\n",
       "      <td>31</td>\n",
       "      <td>2019-02-17</td>\n",
       "      <td>3</td>\n",
       "      <td>married</td>\n",
       "      <td>40423</td>\n",
       "    </tr>\n",
       "  </tbody>\n",
       "</table>\n",
       "<p>3 rows × 31 columns</p>\n",
       "</div>"
      ],
      "text/plain": [
       "   order_id  user_id  order_number  orders_day_of_week  order_hour_of_day  \\\n",
       "0   2539329        1             1                   2                  8   \n",
       "1   2539329        1             1                   2                  8   \n",
       "2   2539329        1             1                   2                  8   \n",
       "\n",
       "   days_since_last_order  new_customer  product_id  add_to_cart_order  \\\n",
       "0                    NaN          True         196                  1   \n",
       "1                    NaN          True       14084                  2   \n",
       "2                    NaN          True       12427                  3   \n",
       "\n",
       "   reordered  ... spending_flag  days_last_order_median  \\\n",
       "0          0  ...   Low spender                    20.5   \n",
       "1          0  ...   Low spender                    20.5   \n",
       "2          0  ...   Low spender                    20.5   \n",
       "\n",
       "          frequency_flag  gender    state age customer_since n_dependants  \\\n",
       "0  Non-frequent customer  Female  Alabama  31     2019-02-17            3   \n",
       "1  Non-frequent customer  Female  Alabama  31     2019-02-17            3   \n",
       "2  Non-frequent customer  Female  Alabama  31     2019-02-17            3   \n",
       "\n",
       "   fam_status income  \n",
       "0     married  40423  \n",
       "1     married  40423  \n",
       "2     married  40423  \n",
       "\n",
       "[3 rows x 31 columns]"
      ]
     },
     "execution_count": 5,
     "metadata": {},
     "output_type": "execute_result"
    }
   ],
   "source": [
    "ords_prods_all.head(3)"
   ]
  },
  {
   "cell_type": "markdown",
   "id": "cec450f7-94e4-4555-b02a-647d83195cec",
   "metadata": {},
   "source": [
    "# 03. Security implications "
   ]
  },
  {
   "cell_type": "markdown",
   "id": "3a2a21d5-8428-4968-9082-2d3829274c30",
   "metadata": {},
   "source": [
    "PII data had been addressed in previous task (Notebook 4.9). \n",
    "Name and surname columns from customers were removed. "
   ]
  },
  {
   "cell_type": "markdown",
   "id": "921b3cc5-1fa0-44e9-9a17-622430538f6b",
   "metadata": {},
   "source": [
    "# 04. Analysis"
   ]
  },
  {
   "cell_type": "markdown",
   "id": "478ed2e1-cfa3-4822-a305-271c2cced4eb",
   "metadata": {},
   "source": [
    "## 04.1 Comparison of customers behavior in different geographic areas. "
   ]
  },
  {
   "cell_type": "code",
   "execution_count": 6,
   "id": "e7fb66f7-8e13-43b2-a068-bc691992e2aa",
   "metadata": {},
   "outputs": [
    {
     "data": {
      "text/plain": [
       "51"
      ]
     },
     "execution_count": 6,
     "metadata": {},
     "output_type": "execute_result"
    }
   ],
   "source": [
    "# Check column state\n",
    "ords_prods_all['state'].nunique()"
   ]
  },
  {
   "cell_type": "code",
   "execution_count": 7,
   "id": "e62ca7b4-3359-4563-98e0-522dfa3455eb",
   "metadata": {},
   "outputs": [
    {
     "data": {
      "text/plain": [
       "state\n",
       "Pennsylvania            667082\n",
       "California              659783\n",
       "Rhode Island            656913\n",
       "Georgia                 656389\n",
       "New Mexico              654494\n",
       "Arizona                 653964\n",
       "North Carolina          651900\n",
       "Oklahoma                651739\n",
       "Alaska                  648495\n",
       "Minnesota               647825\n",
       "Massachusetts           646358\n",
       "Wyoming                 644255\n",
       "Virginia                641421\n",
       "Missouri                640732\n",
       "Texas                   640394\n",
       "Colorado                639280\n",
       "Maine                   638583\n",
       "North Dakota            638491\n",
       "Alabama                 638003\n",
       "Kansas                  637538\n",
       "Louisiana               637482\n",
       "Delaware                637024\n",
       "South Carolina          636754\n",
       "Oregon                  636425\n",
       "Arkansas                636144\n",
       "Nevada                  636139\n",
       "New York                635983\n",
       "Montana                 635265\n",
       "South Dakota            633772\n",
       "Illinois                633024\n",
       "Hawaii                  632901\n",
       "Washington              632852\n",
       "Mississippi             632675\n",
       "Kentucky                632490\n",
       "Michigan                630928\n",
       "Florida                 629027\n",
       "Ohio                    628319\n",
       "Wisconsin               628108\n",
       "New Jersey              627692\n",
       "Indiana                 627282\n",
       "Maryland                626579\n",
       "Nebraska                625813\n",
       "Iowa                    625493\n",
       "Connecticut             623022\n",
       "Tennessee               617873\n",
       "New Hampshire           615378\n",
       "District of Columbia    613695\n",
       "West Virginia           612296\n",
       "Utah                    611941\n",
       "Vermont                 611725\n",
       "Idaho                   607119\n",
       "Name: count, dtype: int64"
      ]
     },
     "execution_count": 7,
     "metadata": {},
     "output_type": "execute_result"
    }
   ],
   "source": [
    "ords_prods_all['state'].value_counts(dropna=False)"
   ]
  },
  {
   "cell_type": "code",
   "execution_count": 8,
   "id": "b61df777-2750-4602-90b3-ae5e722ea7ba",
   "metadata": {},
   "outputs": [],
   "source": [
    "# Define the regions\n",
    "northeast = ['Maine', 'New Hampshire', 'Vermont', 'Massachusetts', 'Rhode Island', 'Connecticut', 'New York', 'Pennsylvania', 'New Jersey']\n",
    "midwest = ['Wisconsin', 'Michigan', 'Illinois', 'Indiana', 'Ohio', 'North Dakota', 'South Dakota', 'Nebraska', 'Kansas', 'Minnesota', 'Iowa', 'Missouri']\n",
    "south = ['Delaware', 'Maryland', 'District of Columbia', 'Virginia', 'West Virginia', 'North Carolina', 'South Carolina', 'Georgia', 'Florida', 'Kentucky', 'Tennessee', 'Mississippi', 'Alabama', 'Oklahoma', 'Texas', 'Arkansas', 'Louisiana']\n",
    "west = ['Idaho', 'Montana', 'Wyoming', 'Nevada', 'Utah', 'Colorado', 'Arizona', 'New Mexico', 'Alaska', 'Washington', 'Oregon', 'California', 'Hawaii']\n",
    "\n",
    "# Assign region values using loc() and isin()\n",
    "ords_prods_all.loc[ords_prods_all['state'].isin(northeast), 'region'] = 'Northeast'"
   ]
  },
  {
   "cell_type": "code",
   "execution_count": 9,
   "id": "1221e719-c3d3-4e26-9442-733d514e60b3",
   "metadata": {},
   "outputs": [],
   "source": [
    "ords_prods_all.loc[ords_prods_all['state'].isin(midwest), 'region'] = 'Midwest'"
   ]
  },
  {
   "cell_type": "code",
   "execution_count": 10,
   "id": "c4bedd41-324b-4e30-969e-d8e9a5cd0b8e",
   "metadata": {},
   "outputs": [],
   "source": [
    "ords_prods_all.loc[ords_prods_all['state'].isin(south), 'region'] = 'South'"
   ]
  },
  {
   "cell_type": "code",
   "execution_count": 11,
   "id": "52f8f23b-431d-4360-8ac5-392e39309a1f",
   "metadata": {},
   "outputs": [],
   "source": [
    "ords_prods_all.loc[ords_prods_all['state'].isin(west), 'region'] = 'West'"
   ]
  },
  {
   "cell_type": "code",
   "execution_count": 12,
   "id": "46c5f9dc-1e05-4703-ae14-f4a226a600d6",
   "metadata": {},
   "outputs": [
    {
     "data": {
      "text/plain": [
       "region\n",
       "South        10791885\n",
       "West          8292913\n",
       "Midwest       7597325\n",
       "Northeast     5722736\n",
       "Name: count, dtype: int64"
      ]
     },
     "execution_count": 12,
     "metadata": {},
     "output_type": "execute_result"
    }
   ],
   "source": [
    "# Check new column\n",
    "ords_prods_all['region'].value_counts()"
   ]
  },
  {
   "cell_type": "code",
   "execution_count": 13,
   "id": "c1a60bd6-4610-4ab7-ae81-561765463b68",
   "metadata": {},
   "outputs": [
    {
     "data": {
      "text/html": [
       "<div>\n",
       "<style scoped>\n",
       "    .dataframe tbody tr th:only-of-type {\n",
       "        vertical-align: middle;\n",
       "    }\n",
       "\n",
       "    .dataframe tbody tr th {\n",
       "        vertical-align: top;\n",
       "    }\n",
       "\n",
       "    .dataframe thead th {\n",
       "        text-align: right;\n",
       "    }\n",
       "</style>\n",
       "<table border=\"1\" class=\"dataframe\">\n",
       "  <thead>\n",
       "    <tr style=\"text-align: right;\">\n",
       "      <th>region</th>\n",
       "      <th>Midwest</th>\n",
       "      <th>Northeast</th>\n",
       "      <th>South</th>\n",
       "      <th>West</th>\n",
       "    </tr>\n",
       "    <tr>\n",
       "      <th>spending_flag</th>\n",
       "      <th></th>\n",
       "      <th></th>\n",
       "      <th></th>\n",
       "      <th></th>\n",
       "    </tr>\n",
       "  </thead>\n",
       "  <tbody>\n",
       "    <tr>\n",
       "      <th>High spender</th>\n",
       "      <td>29265</td>\n",
       "      <td>18642</td>\n",
       "      <td>40579</td>\n",
       "      <td>31223</td>\n",
       "    </tr>\n",
       "    <tr>\n",
       "      <th>Low spender</th>\n",
       "      <td>7568060</td>\n",
       "      <td>5704094</td>\n",
       "      <td>10751306</td>\n",
       "      <td>8261690</td>\n",
       "    </tr>\n",
       "  </tbody>\n",
       "</table>\n",
       "</div>"
      ],
      "text/plain": [
       "region         Midwest  Northeast     South     West\n",
       "spending_flag                                       \n",
       "High spender     29265      18642     40579    31223\n",
       "Low spender    7568060    5704094  10751306  8261690"
      ]
     },
     "execution_count": 13,
     "metadata": {},
     "output_type": "execute_result"
    }
   ],
   "source": [
    "# Crosstab to compare spending habits by region\n",
    "crosstab_spending_region = pd.crosstab(ords_prods_all['spending_flag'], ords_prods_all['region'], dropna=False)\n",
    "crosstab_spending_region"
   ]
  },
  {
   "cell_type": "markdown",
   "id": "6e2941bb-6acf-4548-b3d5-729c3e08b98b",
   "metadata": {},
   "source": [
    "All regions have a very small proportion of high spenders. \n",
    "The South region has the highest count of both high and low spender, suggesting that it has the larger customer base. "
   ]
  },
  {
   "cell_type": "code",
   "execution_count": 14,
   "id": "04bd95a9-41c3-463f-aeb8-b7ca0d70bbc8",
   "metadata": {},
   "outputs": [
    {
     "data": {
      "text/html": [
       "<div>\n",
       "<style scoped>\n",
       "    .dataframe tbody tr th:only-of-type {\n",
       "        vertical-align: middle;\n",
       "    }\n",
       "\n",
       "    .dataframe tbody tr th {\n",
       "        vertical-align: top;\n",
       "    }\n",
       "\n",
       "    .dataframe thead th {\n",
       "        text-align: right;\n",
       "    }\n",
       "</style>\n",
       "<table border=\"1\" class=\"dataframe\">\n",
       "  <thead>\n",
       "    <tr style=\"text-align: right;\">\n",
       "      <th>loyalty_flag</th>\n",
       "      <th>Loyal customer</th>\n",
       "      <th>New customer</th>\n",
       "      <th>Regular customer</th>\n",
       "    </tr>\n",
       "    <tr>\n",
       "      <th>spending_flag</th>\n",
       "      <th></th>\n",
       "      <th></th>\n",
       "      <th></th>\n",
       "    </tr>\n",
       "  </thead>\n",
       "  <tbody>\n",
       "    <tr>\n",
       "      <th>High spender</th>\n",
       "      <td>13896</td>\n",
       "      <td>58628</td>\n",
       "      <td>47185</td>\n",
       "    </tr>\n",
       "    <tr>\n",
       "      <th>Low spender</th>\n",
       "      <td>10270197</td>\n",
       "      <td>6185362</td>\n",
       "      <td>15829591</td>\n",
       "    </tr>\n",
       "  </tbody>\n",
       "</table>\n",
       "</div>"
      ],
      "text/plain": [
       "loyalty_flag   Loyal customer  New customer  Regular customer\n",
       "spending_flag                                                \n",
       "High spender            13896         58628             47185\n",
       "Low spender          10270197       6185362          15829591"
      ]
     },
     "execution_count": 14,
     "metadata": {},
     "output_type": "execute_result"
    }
   ],
   "source": [
    "# Crosstab to compare spending habits by loyalty status\n",
    "crosstab_spending_loyal = pd.crosstab(ords_prods_all['spending_flag'], ords_prods_all['loyalty_flag'], dropna=False)\n",
    "crosstab_spending_loyal"
   ]
  },
  {
   "cell_type": "markdown",
   "id": "4f89f34c-fa3b-4b9a-894e-e97c01bdd6f7",
   "metadata": {},
   "source": [
    "## 04.2 Exclusion flag"
   ]
  },
  {
   "cell_type": "code",
   "execution_count": 13,
   "id": "ddf8d301-0b3e-492a-917b-1210cda3e7bf",
   "metadata": {},
   "outputs": [],
   "source": [
    "# Create an exclusion flag for low-activity customers\n",
    "ords_prods_all.loc[ords_prods_all['max_order'] < 5, 'exclusion_flag'] = 'Yes'"
   ]
  },
  {
   "cell_type": "code",
   "execution_count": 14,
   "id": "5d4ef4f5-1995-41be-a50f-1aa9a2c8f697",
   "metadata": {},
   "outputs": [],
   "source": [
    "ords_prods_all.loc[ords_prods_all['max_order'] >= 5, 'exclusion_flag'] = 'No'"
   ]
  },
  {
   "cell_type": "code",
   "execution_count": 15,
   "id": "d8d6c827-8626-4c7f-b9b3-cd213dfc673d",
   "metadata": {},
   "outputs": [
    {
     "data": {
      "text/plain": [
       "exclusion_flag\n",
       "No     30964564\n",
       "Yes     1440295\n",
       "Name: count, dtype: int64"
      ]
     },
     "execution_count": 15,
     "metadata": {},
     "output_type": "execute_result"
    }
   ],
   "source": [
    "# Check frequency of values \n",
    "ords_prods_all['exclusion_flag'].value_counts(dropna=False)"
   ]
  },
  {
   "cell_type": "code",
   "execution_count": 16,
   "id": "aaa5bfdd-0d54-4717-aa97-93d83e1de5a5",
   "metadata": {},
   "outputs": [
    {
     "data": {
      "text/html": [
       "<div>\n",
       "<style scoped>\n",
       "    .dataframe tbody tr th:only-of-type {\n",
       "        vertical-align: middle;\n",
       "    }\n",
       "\n",
       "    .dataframe tbody tr th {\n",
       "        vertical-align: top;\n",
       "    }\n",
       "\n",
       "    .dataframe thead th {\n",
       "        text-align: right;\n",
       "    }\n",
       "</style>\n",
       "<table border=\"1\" class=\"dataframe\">\n",
       "  <thead>\n",
       "    <tr style=\"text-align: right;\">\n",
       "      <th></th>\n",
       "      <th>user_id</th>\n",
       "      <th>max_order</th>\n",
       "      <th>exclusion_flag</th>\n",
       "    </tr>\n",
       "  </thead>\n",
       "  <tbody>\n",
       "    <tr>\n",
       "      <th>25156874</th>\n",
       "      <td>159838</td>\n",
       "      <td>1</td>\n",
       "      <td>Yes</td>\n",
       "    </tr>\n",
       "    <tr>\n",
       "      <th>25156873</th>\n",
       "      <td>159838</td>\n",
       "      <td>1</td>\n",
       "      <td>Yes</td>\n",
       "    </tr>\n",
       "    <tr>\n",
       "      <th>25156872</th>\n",
       "      <td>159838</td>\n",
       "      <td>1</td>\n",
       "      <td>Yes</td>\n",
       "    </tr>\n",
       "    <tr>\n",
       "      <th>25156871</th>\n",
       "      <td>159838</td>\n",
       "      <td>1</td>\n",
       "      <td>Yes</td>\n",
       "    </tr>\n",
       "    <tr>\n",
       "      <th>25156870</th>\n",
       "      <td>159838</td>\n",
       "      <td>1</td>\n",
       "      <td>Yes</td>\n",
       "    </tr>\n",
       "    <tr>\n",
       "      <th>19636925</th>\n",
       "      <td>124615</td>\n",
       "      <td>2</td>\n",
       "      <td>Yes</td>\n",
       "    </tr>\n",
       "    <tr>\n",
       "      <th>14449668</th>\n",
       "      <td>91567</td>\n",
       "      <td>2</td>\n",
       "      <td>Yes</td>\n",
       "    </tr>\n",
       "    <tr>\n",
       "      <th>8819967</th>\n",
       "      <td>55869</td>\n",
       "      <td>2</td>\n",
       "      <td>Yes</td>\n",
       "    </tr>\n",
       "    <tr>\n",
       "      <th>8819966</th>\n",
       "      <td>55869</td>\n",
       "      <td>2</td>\n",
       "      <td>Yes</td>\n",
       "    </tr>\n",
       "    <tr>\n",
       "      <th>8819965</th>\n",
       "      <td>55869</td>\n",
       "      <td>2</td>\n",
       "      <td>Yes</td>\n",
       "    </tr>\n",
       "    <tr>\n",
       "      <th>19636926</th>\n",
       "      <td>124615</td>\n",
       "      <td>2</td>\n",
       "      <td>Yes</td>\n",
       "    </tr>\n",
       "    <tr>\n",
       "      <th>12405485</th>\n",
       "      <td>78575</td>\n",
       "      <td>3</td>\n",
       "      <td>Yes</td>\n",
       "    </tr>\n",
       "    <tr>\n",
       "      <th>951666</th>\n",
       "      <td>6161</td>\n",
       "      <td>3</td>\n",
       "      <td>Yes</td>\n",
       "    </tr>\n",
       "    <tr>\n",
       "      <th>951667</th>\n",
       "      <td>6161</td>\n",
       "      <td>3</td>\n",
       "      <td>Yes</td>\n",
       "    </tr>\n",
       "    <tr>\n",
       "      <th>951668</th>\n",
       "      <td>6161</td>\n",
       "      <td>3</td>\n",
       "      <td>Yes</td>\n",
       "    </tr>\n",
       "    <tr>\n",
       "      <th>951669</th>\n",
       "      <td>6161</td>\n",
       "      <td>3</td>\n",
       "      <td>Yes</td>\n",
       "    </tr>\n",
       "    <tr>\n",
       "      <th>951670</th>\n",
       "      <td>6161</td>\n",
       "      <td>3</td>\n",
       "      <td>Yes</td>\n",
       "    </tr>\n",
       "    <tr>\n",
       "      <th>951671</th>\n",
       "      <td>6162</td>\n",
       "      <td>3</td>\n",
       "      <td>Yes</td>\n",
       "    </tr>\n",
       "    <tr>\n",
       "      <th>951672</th>\n",
       "      <td>6162</td>\n",
       "      <td>3</td>\n",
       "      <td>Yes</td>\n",
       "    </tr>\n",
       "    <tr>\n",
       "      <th>951673</th>\n",
       "      <td>6162</td>\n",
       "      <td>3</td>\n",
       "      <td>Yes</td>\n",
       "    </tr>\n",
       "    <tr>\n",
       "      <th>951674</th>\n",
       "      <td>6162</td>\n",
       "      <td>3</td>\n",
       "      <td>Yes</td>\n",
       "    </tr>\n",
       "    <tr>\n",
       "      <th>951675</th>\n",
       "      <td>6162</td>\n",
       "      <td>3</td>\n",
       "      <td>Yes</td>\n",
       "    </tr>\n",
       "    <tr>\n",
       "      <th>951676</th>\n",
       "      <td>6162</td>\n",
       "      <td>3</td>\n",
       "      <td>Yes</td>\n",
       "    </tr>\n",
       "    <tr>\n",
       "      <th>951677</th>\n",
       "      <td>6162</td>\n",
       "      <td>3</td>\n",
       "      <td>Yes</td>\n",
       "    </tr>\n",
       "    <tr>\n",
       "      <th>951678</th>\n",
       "      <td>6162</td>\n",
       "      <td>3</td>\n",
       "      <td>Yes</td>\n",
       "    </tr>\n",
       "    <tr>\n",
       "      <th>951679</th>\n",
       "      <td>6162</td>\n",
       "      <td>3</td>\n",
       "      <td>Yes</td>\n",
       "    </tr>\n",
       "    <tr>\n",
       "      <th>951680</th>\n",
       "      <td>6162</td>\n",
       "      <td>3</td>\n",
       "      <td>Yes</td>\n",
       "    </tr>\n",
       "    <tr>\n",
       "      <th>951681</th>\n",
       "      <td>6162</td>\n",
       "      <td>3</td>\n",
       "      <td>Yes</td>\n",
       "    </tr>\n",
       "    <tr>\n",
       "      <th>951682</th>\n",
       "      <td>6162</td>\n",
       "      <td>3</td>\n",
       "      <td>Yes</td>\n",
       "    </tr>\n",
       "    <tr>\n",
       "      <th>951683</th>\n",
       "      <td>6162</td>\n",
       "      <td>3</td>\n",
       "      <td>Yes</td>\n",
       "    </tr>\n",
       "  </tbody>\n",
       "</table>\n",
       "</div>"
      ],
      "text/plain": [
       "          user_id  max_order exclusion_flag\n",
       "25156874   159838          1            Yes\n",
       "25156873   159838          1            Yes\n",
       "25156872   159838          1            Yes\n",
       "25156871   159838          1            Yes\n",
       "25156870   159838          1            Yes\n",
       "19636925   124615          2            Yes\n",
       "14449668    91567          2            Yes\n",
       "8819967     55869          2            Yes\n",
       "8819966     55869          2            Yes\n",
       "8819965     55869          2            Yes\n",
       "19636926   124615          2            Yes\n",
       "12405485    78575          3            Yes\n",
       "951666       6161          3            Yes\n",
       "951667       6161          3            Yes\n",
       "951668       6161          3            Yes\n",
       "951669       6161          3            Yes\n",
       "951670       6161          3            Yes\n",
       "951671       6162          3            Yes\n",
       "951672       6162          3            Yes\n",
       "951673       6162          3            Yes\n",
       "951674       6162          3            Yes\n",
       "951675       6162          3            Yes\n",
       "951676       6162          3            Yes\n",
       "951677       6162          3            Yes\n",
       "951678       6162          3            Yes\n",
       "951679       6162          3            Yes\n",
       "951680       6162          3            Yes\n",
       "951681       6162          3            Yes\n",
       "951682       6162          3            Yes\n",
       "951683       6162          3            Yes"
      ]
     },
     "execution_count": 16,
     "metadata": {},
     "output_type": "execute_result"
    }
   ],
   "source": [
    "ords_prods_all[['user_id', 'max_order', 'exclusion_flag']].sort_values('max_order').head(30)"
   ]
  },
  {
   "cell_type": "code",
   "execution_count": 17,
   "id": "24fba794-af47-4453-a9d7-2508b2790747",
   "metadata": {},
   "outputs": [
    {
     "data": {
      "text/plain": [
       "exclusion_flag\n",
       "No     162631\n",
       "Yes     43578\n",
       "Name: user_id, dtype: int64"
      ]
     },
     "execution_count": 17,
     "metadata": {},
     "output_type": "execute_result"
    }
   ],
   "source": [
    "ords_prods_all.groupby('exclusion_flag')['user_id'].nunique()"
   ]
  },
  {
   "cell_type": "markdown",
   "id": "b4627fcf-1455-4b98-a3ce-8cb0620c61ca",
   "metadata": {},
   "source": [
    "43,578 customers are low-activity customers"
   ]
  },
  {
   "cell_type": "code",
   "execution_count": 18,
   "id": "6ac03ef0-0d13-4328-8caa-1552e7335152",
   "metadata": {},
   "outputs": [],
   "source": [
    "# Remove observations from low_activity customers by creating a new dataframe\n",
    "ords_prods_all_ex = ords_prods_all.drop(ords_prods_all[ords_prods_all['exclusion_flag'] =='Yes'].index)"
   ]
  },
  {
   "cell_type": "code",
   "execution_count": 19,
   "id": "d1878298-ef8b-486b-86c9-73efbc4afcb7",
   "metadata": {},
   "outputs": [
    {
     "data": {
      "text/plain": [
       "(30964564, 33)"
      ]
     },
     "execution_count": 19,
     "metadata": {},
     "output_type": "execute_result"
    }
   ],
   "source": [
    "ords_prods_all_ex.shape"
   ]
  },
  {
   "cell_type": "code",
   "execution_count": 20,
   "id": "e4cc026b-6d65-4934-adfc-7077ab89c30e",
   "metadata": {},
   "outputs": [
    {
     "data": {
      "text/plain": [
       "(32404859, 33)"
      ]
     },
     "execution_count": 20,
     "metadata": {},
     "output_type": "execute_result"
    }
   ],
   "source": [
    "ords_prods_all.shape"
   ]
  },
  {
   "cell_type": "code",
   "execution_count": 21,
   "id": "7535e0ba-8785-4d84-bb5c-5e65f8f07e05",
   "metadata": {},
   "outputs": [
    {
     "data": {
      "text/plain": [
       "1440295"
      ]
     },
     "execution_count": 21,
     "metadata": {},
     "output_type": "execute_result"
    }
   ],
   "source": [
    "len(ords_prods_all) - len(ords_prods_all_ex)"
   ]
  },
  {
   "cell_type": "code",
   "execution_count": 26,
   "id": "27fd04cf-738c-4763-afab-83bce2f1d991",
   "metadata": {},
   "outputs": [],
   "source": [
    "# Remove exclusion flag\n",
    "ords_prods_all_ex = ords_prods_all_ex.drop(columns = ['exclusion_flag'])"
   ]
  },
  {
   "cell_type": "code",
   "execution_count": 27,
   "id": "c1854998-728e-4262-a791-e2d1b9d81609",
   "metadata": {},
   "outputs": [
    {
     "data": {
      "text/plain": [
       "(30964564, 32)"
      ]
     },
     "execution_count": 27,
     "metadata": {},
     "output_type": "execute_result"
    }
   ],
   "source": [
    "ords_prods_all_ex.shape"
   ]
  },
  {
   "cell_type": "markdown",
   "id": "17ab1a85-74d6-4d20-bca9-e7f6fbcb408f",
   "metadata": {},
   "source": [
    "# 05 Export data"
   ]
  },
  {
   "cell_type": "code",
   "execution_count": 28,
   "id": "f97faf74-3ab1-434e-821a-75d81bffd113",
   "metadata": {},
   "outputs": [],
   "source": [
    "# Export new dataframe with exclusions\n",
    "ords_prods_all_ex.to_pickle(os.path.join(path, '02 Data', 'Prepared Data', 'orders_products_all_exclusions.pkl'))"
   ]
  }
 ],
 "metadata": {
  "kernelspec": {
   "display_name": "Python [conda env:base] *",
   "language": "python",
   "name": "conda-base-py"
  },
  "language_info": {
   "codemirror_mode": {
    "name": "ipython",
    "version": 3
   },
   "file_extension": ".py",
   "mimetype": "text/x-python",
   "name": "python",
   "nbconvert_exporter": "python",
   "pygments_lexer": "ipython3",
   "version": "3.12.3"
  }
 },
 "nbformat": 4,
 "nbformat_minor": 5
}
